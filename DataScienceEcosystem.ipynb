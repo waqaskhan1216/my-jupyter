{
 "cells": [
  {
   "cell_type": "markdown",
   "id": "fb574f60-c6cd-40f0-b10e-876a3f7f5f69",
   "metadata": {},
   "source": [
    "# Data Science Tools and Ecosystem"
   ]
  },
  {
   "cell_type": "markdown",
   "id": "713509d1-1448-437f-ac80-82d1477b8fe9",
   "metadata": {},
   "source": [
    "In this notebook, Data Science Tools and Ecosystem are summarized."
   ]
  },
  {
   "cell_type": "markdown",
   "id": "19d1ef85-d679-47b6-8311-aa62521c74e3",
   "metadata": {},
   "source": [
    "Some of the popular languages that Data Scientists use are:"
   ]
  },
  {
   "cell_type": "markdown",
   "id": "ec6053a4-300d-4afd-ac92-e29ab27f8b52",
   "metadata": {},
   "source": [
    "1. Python\n",
    "2. R\n",
    "3. SQL\n",
    "4. C++\n",
    "5. Java"
   ]
  },
  {
   "cell_type": "markdown",
   "id": "7d939167-f4e0-4d34-ae2b-631d70006f11",
   "metadata": {},
   "source": [
    "Some of the commonly used libraries used by Data Scientists include:"
   ]
  },
  {
   "cell_type": "markdown",
   "id": "b6d60cf5-7144-4a1c-969a-5319636b1e5f",
   "metadata": {},
   "source": [
    "1. NumPy\n",
    "2. SciPy\n",
    "3. Panda\n",
    "4. PyTorch"
   ]
  },
  {
   "cell_type": "markdown",
   "id": "3934816b-b56f-4de7-91f2-c68e260f71ea",
   "metadata": {},
   "source": [
    "|Data Science Tools|\n",
    "|---|\n",
    "|SAS|\n",
    "|Apache Hadoop|\n",
    "|TensorFlow|"
   ]
  },
  {
   "cell_type": "markdown",
   "id": "1f5a8c82-524e-44ee-ad20-2d2c3fd0806a",
   "metadata": {},
   "source": [
    "### Below are a few examples of evaluating arithmetic expressions in Python"
   ]
  },
  {
   "cell_type": "code",
   "execution_count": 3,
   "id": "68f04cfd-7c25-4d6a-9885-f348439ab64c",
   "metadata": {
    "tags": []
   },
   "outputs": [
    {
     "data": {
      "text/plain": [
       "17"
      ]
     },
     "execution_count": 3,
     "metadata": {},
     "output_type": "execute_result"
    }
   ],
   "source": [
    "# This a simple arithmetic expression to mutiply then add integers\n",
    "(3*4)+5"
   ]
  },
  {
   "cell_type": "code",
   "execution_count": 2,
   "id": "0efc4c24-9a8b-4195-bc07-6db5c53899fc",
   "metadata": {
    "tags": []
   },
   "outputs": [
    {
     "data": {
      "text/plain": [
       "3.3333333333333335"
      ]
     },
     "execution_count": 2,
     "metadata": {},
     "output_type": "execute_result"
    }
   ],
   "source": [
    "#This will convert 200 minutes to hours by diving by 60\n",
    "200/60"
   ]
  },
  {
   "cell_type": "markdown",
   "id": "546c13f8-2fd8-4095-9d0f-74891c023b16",
   "metadata": {},
   "source": [
    "**Objectives**\n",
    "* list of popular languages\n",
    "* list of popular libraries\n",
    "* Data Science Tools\n",
    "* Arithematic Operation"
   ]
  },
  {
   "cell_type": "markdown",
   "id": "33f01371-8f02-43fc-a10c-32db7d7b334f",
   "metadata": {},
   "source": [
    "## Author\n",
    "Muhammad Waqas Khan"
   ]
  },
  {
   "cell_type": "code",
   "execution_count": null,
   "id": "08be4a8d-5319-4be0-ad5e-b21ba4be1df3",
   "metadata": {},
   "outputs": [],
   "source": []
  }
 ],
 "metadata": {
  "kernelspec": {
   "display_name": "Python",
   "language": "python",
   "name": "conda-env-python-py"
  },
  "language_info": {
   "codemirror_mode": {
    "name": "ipython",
    "version": 3
   },
   "file_extension": ".py",
   "mimetype": "text/x-python",
   "name": "python",
   "nbconvert_exporter": "python",
   "pygments_lexer": "ipython3",
   "version": "3.7.12"
  }
 },
 "nbformat": 4,
 "nbformat_minor": 5
}
